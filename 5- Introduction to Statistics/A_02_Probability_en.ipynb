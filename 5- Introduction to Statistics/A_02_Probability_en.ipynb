{
  "nbformat": 4,
  "nbformat_minor": 0,
  "metadata": {
    "kernelspec": {
      "display_name": "Python 3",
      "language": "python",
      "name": "python3"
    },
    "language_info": {
      "codemirror_mode": {
        "name": "ipython",
        "version": 3
      },
      "file_extension": ".py",
      "mimetype": "text/x-python",
      "name": "python",
      "nbconvert_exporter": "python",
      "pygments_lexer": "ipython3",
      "version": "3.8.7"
    },
    "colab": {
      "name": "A_02_Probability_en.ipynb",
      "provenance": [],
      "collapsed_sections": []
    }
  },
  "cells": [
    {
      "cell_type": "markdown",
      "metadata": {
        "id": "AfujBgYCeHYt"
      },
      "source": [
        "It has been found that some of the computers sold by Company A are defective. Assuming that there are 3 computer-producing companies (A, B, and C), the amount of computer production of these companies and the probabilities of defective production are as follows:\n",
        "\n",
        "Total production percentage : <br>\n",
        "$P(A)=0.40$<br>\n",
        "$P(B)=0.40$ <br>\n",
        "$P(C)=0.20$<br>\n",
        "\n",
        "Possibility of defective production :<br>\n",
        "$P(D|A)=0.015$<br>\n",
        "$P(D|B)=0.020$<br>\n",
        "$P(D|C)=0.010$\n",
        "\n",
        "- What is the probability that a randomly selected defective computer will be produced by company B?"
      ]
    },
    {
      "cell_type": "markdown",
      "metadata": {
        "id": "L0WoErX4hBFj"
      },
      "source": [
        "Out of 100 computers, 40 computers are produced by Company A, 40 produced by Company B, and 20 produced by Company C.\n",
        "\n",
        "\n",
        "---\n",
        "\n",
        "\n",
        "- Out of 1000 computers Company A produces, 15 computers are defective.\n",
        "- Out of 1000 computers Company B produces, 20 computers are defective.\n",
        "- Out of 1000 computers Company C produces, 10 computers are defective.\n",
        "\n",
        "\n",
        "---\n",
        "\n",
        "\n",
        "Let's say we have 10000 computers produced, which means 4000 produced by Company A, 4000 by Company B, and 2000 by Company C.\n",
        "Therefore, in this 10000 computers:\n",
        "- Company A has: 3940 non-defective and 60 defective computers.\n",
        "- Company B has: 3920 non-defective and 80 defective computers.\n",
        "- Company C has: 3980 non-defective and 20 defective computers.\n",
        "\n",
        "\n",
        "---\n",
        "\n",
        "\n",
        "Out of 160 defective computers, 80 is produced by B.\n",
        "Therefore, the probability that a randomly selected defective computer will be produced by company B is 50%."
      ]
    },
    {
      "cell_type": "code",
      "metadata": {
        "colab": {
          "base_uri": "https://localhost:8080/"
        },
        "id": "kTsZgtrQeVtq",
        "outputId": "7be2ffe1-78a7-4134-e9c9-fba6f0d50dda"
      },
      "source": [
        "# Bayesian Rule\n",
        "\n",
        "probability_A = 0.40\n",
        "probability_B = 0.40\n",
        "probability_C = 0.20\n",
        "\n",
        "defective_A = 0.015\n",
        "defective_B = 0.020\n",
        "defective_C = 0.010\n",
        "\n",
        "defective = (probability_A * defective_A) + (probability_B * defective_B) + (probability_C * defective_C)\n",
        "\n",
        "result = (defective_B * probability_B) / defective\n",
        "print(result)"
      ],
      "execution_count": 1,
      "outputs": [
        {
          "output_type": "stream",
          "text": [
            "0.5\n"
          ],
          "name": "stdout"
        }
      ]
    }
  ]
}