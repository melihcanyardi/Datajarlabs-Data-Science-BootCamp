{
 "cells": [
  {
   "cell_type": "markdown",
   "metadata": {
    "id": "fLgaV_vXSj9o"
   },
   "source": [
    "For the assignment, you are going to use [Earthquakes](https://bootrain-lms-assets.s3.eu-central-1.amazonaws.com/bootrain-lms-static/datasets/Earthquakes.csv) dataset."
   ]
  },
  {
   "cell_type": "code",
   "execution_count": 1,
   "metadata": {
    "id": "zVLqbLm3otiC"
   },
   "outputs": [],
   "source": [
    "import numpy as np"
   ]
  },
  {
   "cell_type": "markdown",
   "metadata": {
    "id": "15b5dY9sSj9u"
   },
   "source": [
    "**(1)** Load the Earthquakes dataset. Export the dataset to an array as you covered in the previous lesson."
   ]
  },
  {
   "cell_type": "code",
   "execution_count": 2,
   "metadata": {
    "colab": {
     "base_uri": "https://localhost:8080/"
    },
    "id": "U2lQmuRgSj9v",
    "outputId": "41ce7564-0eed-4d5e-d41d-d2f7c777f152"
   },
   "outputs": [
    {
     "data": {
      "text/plain": [
       "array([[0.000e+00, 0.000e+00, 0.000e+00, ..., 4.000e+00, 7.000e+00,\n",
       "        0.000e+00],\n",
       "       [1.000e+00, 0.000e+00, 0.000e+00, ..., 4.100e+00, 7.000e+00,\n",
       "        0.000e+00],\n",
       "       [2.000e+00, 0.000e+00, 0.000e+00, ..., 4.400e+00, 7.000e+00,\n",
       "        0.000e+00],\n",
       "       ...,\n",
       "       [6.571e+03, 4.000e+00, 0.000e+00, ..., 4.800e+00, 2.000e+00,\n",
       "        0.000e+00],\n",
       "       [6.572e+03, 3.000e+00, 0.000e+00, ..., 5.200e+00, 2.000e+00,\n",
       "        0.000e+00],\n",
       "       [6.573e+03, 2.000e+00, 0.000e+00, ..., 4.400e+00, 2.000e+00,\n",
       "        0.000e+00]])"
      ]
     },
     "execution_count": 2,
     "metadata": {},
     "output_type": "execute_result"
    }
   ],
   "source": [
    "earthquakes = np.loadtxt(\"https://bootrain-lms-assets.s3.eu-central-1.amazonaws.com/bootrain-lms-static/datasets/Earthquakes.csv\", delimiter=\",\")\n",
    "earthquakes"
   ]
  },
  {
   "cell_type": "markdown",
   "metadata": {
    "id": "qANZqSzlSj9v"
   },
   "source": [
    "**(2)** Slice first 20 rows and column numbers 3, 5, 6, 7, 12. Then, assign the array you sliced to a variable."
   ]
  },
  {
   "cell_type": "code",
   "execution_count": 3,
   "metadata": {
    "colab": {
     "base_uri": "https://localhost:8080/"
    },
    "id": "XXPm1R3aSj9v",
    "outputId": "c92ff2f1-928b-415a-d57e-e4df755c7a96"
   },
   "outputs": [
    {
     "data": {
      "text/plain": [
       "array([[ 0.    , 36.8578, 44.4161, 16.97  ,  4.    ],\n",
       "       [ 0.    , 37.4341, 35.852 ,  7.02  ,  4.1   ],\n",
       "       [ 0.    , 37.6878, 37.4016, 10.27  ,  4.4   ],\n",
       "       [ 0.    , 37.2003, 30.4376, 78.07  ,  4.    ],\n",
       "       [ 0.    , 35.6846, 26.7266, 42.77  ,  4.5   ],\n",
       "       [ 0.    , 36.4171, 28.6991, 14.86  ,  4.1   ],\n",
       "       [ 0.    , 36.0535, 31.2135, 36.68  ,  5.2   ],\n",
       "       [ 0.    , 37.1958, 30.6241, 50.33  ,  4.8   ],\n",
       "       [ 0.    , 36.9653, 27.7633,  6.93  ,  4.3   ],\n",
       "       [ 0.    , 38.893 , 26.4483, 11.62  ,  4.2   ],\n",
       "       [ 0.    , 37.3773, 36.3855, 10.53  ,  4.8   ],\n",
       "       [ 0.    , 35.8861, 26.0695, 28.49  ,  4.9   ],\n",
       "       [ 0.    , 37.4635, 36.3113, 15.29  ,  4.3   ],\n",
       "       [ 0.    , 37.0201, 36.0845, 10.    ,  4.1   ],\n",
       "       [ 0.    , 37.6546, 26.6698,  4.5   ,  4.5   ],\n",
       "       [ 0.    , 37.5318, 29.848 , 17.58  ,  4.6   ],\n",
       "       [ 0.    , 39.0388, 44.1533,  7.52  ,  4.5   ],\n",
       "       [ 0.    , 38.357 , 44.8686, 10.05  ,  4.1   ],\n",
       "       [ 0.    , 35.7018, 28.1495,  6.25  ,  4.1   ],\n",
       "       [ 0.    , 37.6883, 37.3968, 10.63  ,  4.1   ]])"
      ]
     },
     "execution_count": 3,
     "metadata": {},
     "output_type": "execute_result"
    }
   ],
   "source": [
    "sliced = earthquakes.copy()[:20, [3, 5, 6, 7, 12]]\n",
    "sliced"
   ]
  },
  {
   "cell_type": "markdown",
   "metadata": {
    "id": "J-QCHxeYSj9w"
   },
   "source": [
    "**(3)** Display the row numbers where last values are equal to 4.5 or higher."
   ]
  },
  {
   "cell_type": "code",
   "execution_count": 4,
   "metadata": {
    "colab": {
     "base_uri": "https://localhost:8080/"
    },
    "id": "i6nAuhm1Sj9w",
    "outputId": "1bb478e3-ad4d-489f-85f4-7033c650f3e9"
   },
   "outputs": [
    {
     "data": {
      "text/plain": [
       "array([[ 0.    , 35.6846, 26.7266, 42.77  ,  4.5   ],\n",
       "       [ 0.    , 36.0535, 31.2135, 36.68  ,  5.2   ],\n",
       "       [ 0.    , 37.1958, 30.6241, 50.33  ,  4.8   ],\n",
       "       [ 0.    , 37.3773, 36.3855, 10.53  ,  4.8   ],\n",
       "       [ 0.    , 35.8861, 26.0695, 28.49  ,  4.9   ],\n",
       "       [ 0.    , 37.6546, 26.6698,  4.5   ,  4.5   ],\n",
       "       [ 0.    , 37.5318, 29.848 , 17.58  ,  4.6   ],\n",
       "       [ 0.    , 39.0388, 44.1533,  7.52  ,  4.5   ]])"
      ]
     },
     "execution_count": 4,
     "metadata": {},
     "output_type": "execute_result"
    }
   ],
   "source": [
    "sliced[sliced[:, -1] >= 4.5]"
   ]
  },
  {
   "cell_type": "code",
   "execution_count": 5,
   "metadata": {
    "colab": {
     "base_uri": "https://localhost:8080/"
    },
    "id": "8WSazpVIsvIW",
    "outputId": "e8df728a-45f5-4c99-c3da-69cf85d3378d"
   },
   "outputs": [
    {
     "data": {
      "text/plain": [
       "(array([ 4,  6,  7, 10, 11, 14, 15, 16], dtype=int64),)"
      ]
     },
     "execution_count": 5,
     "metadata": {},
     "output_type": "execute_result"
    }
   ],
   "source": [
    "np.where(sliced[:, -1] >= 4.5)"
   ]
  },
  {
   "cell_type": "markdown",
   "metadata": {
    "id": "JL_3gJJqSj9w"
   },
   "source": [
    "**(4)** Assign 1 to first row."
   ]
  },
  {
   "cell_type": "code",
   "execution_count": 6,
   "metadata": {
    "id": "LvKP8W0aSj9w"
   },
   "outputs": [],
   "source": [
    "sliced[:, 0] = 1"
   ]
  },
  {
   "cell_type": "markdown",
   "metadata": {
    "id": "o7pY3bMdSj9x"
   },
   "source": [
    "**(5)** Save the final state of the array to disk. You are going to use this in the next assignment."
   ]
  },
  {
   "cell_type": "code",
   "execution_count": 7,
   "metadata": {
    "id": "SR69q0N9Sj9x"
   },
   "outputs": [],
   "source": [
    "np.save(\"sliced.npy\", sliced)"
   ]
  }
 ],
 "metadata": {
  "colab": {
   "collapsed_sections": [],
   "name": "A_03_IndexingAndSlicingOfNumPyArrays_en.ipynb",
   "provenance": []
  },
  "kernelspec": {
   "display_name": "Python 3",
   "language": "python",
   "name": "python3"
  },
  "language_info": {
   "codemirror_mode": {
    "name": "ipython",
    "version": 3
   },
   "file_extension": ".py",
   "mimetype": "text/x-python",
   "name": "python",
   "nbconvert_exporter": "python",
   "pygments_lexer": "ipython3",
   "version": "3.8.5"
  }
 },
 "nbformat": 4,
 "nbformat_minor": 1
}
