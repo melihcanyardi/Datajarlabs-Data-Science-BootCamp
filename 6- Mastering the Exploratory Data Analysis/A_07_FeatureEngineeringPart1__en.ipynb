{
 "cells": [
  {
   "cell_type": "markdown",
   "metadata": {
    "id": "s9XOvMJeUtU5"
   },
   "source": [
    "# <font color=blue>Assignments for \"Feature Engineering - Part 1\"</font>"
   ]
  },
  {
   "cell_type": "code",
   "execution_count": 1,
   "metadata": {},
   "outputs": [],
   "source": [
    "import numpy as np\n",
    "import pandas as pd\n",
    "import matplotlib.pyplot as plt\n",
    "import seaborn as sns\n",
    "from sklearn.preprocessing import normalize\n",
    "from scipy.stats import jarque_bera\n",
    "from scipy.stats import normaltest\n",
    "\n",
    "%matplotlib inline"
   ]
  },
  {
   "cell_type": "markdown",
   "metadata": {
    "id": "zyGhZJFNUtVH"
   },
   "source": [
    "In this assignment, you will continue to study the `Students Performance` ([dataset](https://www.kaggle.com/spscientist/students-performance-in-exams/home)). In this dataset, there is a lot of data on an annual basis. You can reach the explanations of this data from Kaggle again.\n",
    "\n",
    "To complete this assignment, submit the Github link of the Jupyter notebook file containing solutions to the questions below. You can talk to your mentor on your head or ask Slack at office time."
   ]
  },
  {
   "cell_type": "code",
   "execution_count": 2,
   "metadata": {},
   "outputs": [
    {
     "data": {
      "text/html": [
       "<div>\n",
       "<style scoped>\n",
       "    .dataframe tbody tr th:only-of-type {\n",
       "        vertical-align: middle;\n",
       "    }\n",
       "\n",
       "    .dataframe tbody tr th {\n",
       "        vertical-align: top;\n",
       "    }\n",
       "\n",
       "    .dataframe thead th {\n",
       "        text-align: right;\n",
       "    }\n",
       "</style>\n",
       "<table border=\"1\" class=\"dataframe\">\n",
       "  <thead>\n",
       "    <tr style=\"text-align: right;\">\n",
       "      <th></th>\n",
       "      <th>gender</th>\n",
       "      <th>race/ethnicity</th>\n",
       "      <th>parental level of education</th>\n",
       "      <th>lunch</th>\n",
       "      <th>test preparation course</th>\n",
       "      <th>math score</th>\n",
       "      <th>reading score</th>\n",
       "      <th>writing score</th>\n",
       "    </tr>\n",
       "  </thead>\n",
       "  <tbody>\n",
       "    <tr>\n",
       "      <th>0</th>\n",
       "      <td>female</td>\n",
       "      <td>group B</td>\n",
       "      <td>bachelor's degree</td>\n",
       "      <td>standard</td>\n",
       "      <td>none</td>\n",
       "      <td>72</td>\n",
       "      <td>72</td>\n",
       "      <td>74</td>\n",
       "    </tr>\n",
       "    <tr>\n",
       "      <th>1</th>\n",
       "      <td>female</td>\n",
       "      <td>group C</td>\n",
       "      <td>some college</td>\n",
       "      <td>standard</td>\n",
       "      <td>completed</td>\n",
       "      <td>69</td>\n",
       "      <td>90</td>\n",
       "      <td>88</td>\n",
       "    </tr>\n",
       "    <tr>\n",
       "      <th>2</th>\n",
       "      <td>female</td>\n",
       "      <td>group B</td>\n",
       "      <td>master's degree</td>\n",
       "      <td>standard</td>\n",
       "      <td>none</td>\n",
       "      <td>90</td>\n",
       "      <td>95</td>\n",
       "      <td>93</td>\n",
       "    </tr>\n",
       "    <tr>\n",
       "      <th>3</th>\n",
       "      <td>male</td>\n",
       "      <td>group A</td>\n",
       "      <td>associate's degree</td>\n",
       "      <td>free/reduced</td>\n",
       "      <td>none</td>\n",
       "      <td>47</td>\n",
       "      <td>57</td>\n",
       "      <td>44</td>\n",
       "    </tr>\n",
       "    <tr>\n",
       "      <th>4</th>\n",
       "      <td>male</td>\n",
       "      <td>group C</td>\n",
       "      <td>some college</td>\n",
       "      <td>standard</td>\n",
       "      <td>none</td>\n",
       "      <td>76</td>\n",
       "      <td>78</td>\n",
       "      <td>75</td>\n",
       "    </tr>\n",
       "  </tbody>\n",
       "</table>\n",
       "</div>"
      ],
      "text/plain": [
       "   gender race/ethnicity parental level of education         lunch  \\\n",
       "0  female        group B           bachelor's degree      standard   \n",
       "1  female        group C                some college      standard   \n",
       "2  female        group B             master's degree      standard   \n",
       "3    male        group A          associate's degree  free/reduced   \n",
       "4    male        group C                some college      standard   \n",
       "\n",
       "  test preparation course  math score  reading score  writing score  \n",
       "0                    none          72             72             74  \n",
       "1               completed          69             90             88  \n",
       "2                    none          90             95             93  \n",
       "3                    none          47             57             44  \n",
       "4                    none          76             78             75  "
      ]
     },
     "execution_count": 2,
     "metadata": {},
     "output_type": "execute_result"
    }
   ],
   "source": [
    "df = pd.read_csv('StudentsPerformance.csv')\n",
    "\n",
    "df.head()"
   ]
  },
  {
   "cell_type": "markdown",
   "metadata": {
    "id": "LZnuA2zyUtVI"
   },
   "source": [
    "**(1)** Are the exam scores (math, reading, writing) normally distributed? If not, what can we do to have a normal distribution?"
   ]
  },
  {
   "cell_type": "code",
   "execution_count": 3,
   "metadata": {
    "id": "V5LZRcxQUtVI"
   },
   "outputs": [
    {
     "data": {
      "image/png": "[encoded data removed]",
      "text/plain": [
       "<Figure size 1080x1440 with 12 Axes>"
      ]
     },
     "metadata": {
      "needs_background": "light"
     },
     "output_type": "display_data"
    }
   ],
   "source": [
    "plt.figure(figsize=(15, 20))\n",
    "\n",
    "plt.subplot(4, 3, 1)\n",
    "plt.hist(df['math score'], bins=30)\n",
    "plt.title('Math Score')\n",
    "\n",
    "plt.subplot(4, 3, 2)\n",
    "plt.hist(df['reading score'], bins=30)\n",
    "plt.title('Reading Score')\n",
    "\n",
    "plt.subplot(4, 3, 3)\n",
    "plt.hist(df['writing score'], bins=30)\n",
    "plt.title('Writing Score')\n",
    "\n",
    "plt.subplot(4, 3, 4)\n",
    "plt.hist(np.sqrt(df['math score']), bins=30)\n",
    "plt.title('Math Score (Square Root)')\n",
    "\n",
    "plt.subplot(4, 3, 5)\n",
    "plt.hist(np.sqrt(df['reading score']), bins=30)\n",
    "plt.title('Reading Score (Square Root)')\n",
    "\n",
    "plt.subplot(4, 3, 6)\n",
    "plt.hist(np.sqrt(df['writing score']), bins=30)\n",
    "plt.title('Writing Score (Square Root)')\n",
    "\n",
    "plt.subplot(4, 3, 7)\n",
    "plt.hist(np.log(df[df['math score'] != 0]['math score']), bins=30)\n",
    "plt.title('Math Score (Log Transformed)')\n",
    "\n",
    "plt.subplot(4, 3, 8)\n",
    "plt.hist(np.log(df[df['reading score'] != 0]['reading score']), bins=30)\n",
    "plt.title('Reading Score (Log Transformed)')\n",
    "\n",
    "plt.subplot(4, 3, 9)\n",
    "plt.hist(np.log(df[df['writing score'] != 0]['writing score']), bins=30)\n",
    "plt.title('Writing Score (Log Transformed)')\n",
    "\n",
    "plt.subplot(4, 3, 10)\n",
    "plt.hist(normalize(np.array(df['math score']).reshape(1,-1)).reshape(-1,1), bins=30)\n",
    "plt.title('Math Score (Normalized)')\n",
    "\n",
    "plt.subplot(4, 3, 11)\n",
    "plt.hist(normalize(np.array(df['reading score']).reshape(1,-1)).reshape(-1,1), bins=30)\n",
    "plt.title('Reading Score (Normalized)')\n",
    "\n",
    "plt.subplot(4, 3, 12)\n",
    "plt.hist(normalize(np.array(df['writing score']).reshape(1,-1)).reshape(-1,1), bins=30)\n",
    "plt.title('Writing Score (Normalized)')\n",
    "\n",
    "plt.show()"
   ]
  },
  {
   "cell_type": "code",
   "execution_count": 4,
   "metadata": {},
   "outputs": [
    {
     "data": {
      "text/html": [
       "<div>\n",
       "<style scoped>\n",
       "    .dataframe tbody tr th:only-of-type {\n",
       "        vertical-align: middle;\n",
       "    }\n",
       "\n",
       "    .dataframe tbody tr th {\n",
       "        vertical-align: top;\n",
       "    }\n",
       "\n",
       "    .dataframe thead th {\n",
       "        text-align: right;\n",
       "    }\n",
       "</style>\n",
       "<table border=\"1\" class=\"dataframe\">\n",
       "  <thead>\n",
       "    <tr style=\"text-align: right;\">\n",
       "      <th></th>\n",
       "      <th>variable</th>\n",
       "      <th>jarque_bera_stats</th>\n",
       "      <th>jarque_bera_p_value</th>\n",
       "      <th>normal_stats</th>\n",
       "      <th>normal_p_value</th>\n",
       "    </tr>\n",
       "  </thead>\n",
       "  <tbody>\n",
       "    <tr>\n",
       "      <th>0</th>\n",
       "      <td>math score</td>\n",
       "      <td>1733.57397</td>\n",
       "      <td>0.00000</td>\n",
       "      <td>335.09114</td>\n",
       "      <td>0.00000</td>\n",
       "    </tr>\n",
       "    <tr>\n",
       "      <th>1</th>\n",
       "      <td>reading score</td>\n",
       "      <td>495.12732</td>\n",
       "      <td>0.00000</td>\n",
       "      <td>209.77151</td>\n",
       "      <td>0.00000</td>\n",
       "    </tr>\n",
       "    <tr>\n",
       "      <th>2</th>\n",
       "      <td>writing score</td>\n",
       "      <td>1410.93701</td>\n",
       "      <td>0.00000</td>\n",
       "      <td>318.96921</td>\n",
       "      <td>0.00000</td>\n",
       "    </tr>\n",
       "  </tbody>\n",
       "</table>\n",
       "</div>"
      ],
      "text/plain": [
       "        variable  jarque_bera_stats  jarque_bera_p_value  normal_stats  \\\n",
       "0     math score         1733.57397              0.00000     335.09114   \n",
       "1  reading score          495.12732              0.00000     209.77151   \n",
       "2  writing score         1410.93701              0.00000     318.96921   \n",
       "\n",
       "   normal_p_value  \n",
       "0         0.00000  \n",
       "1         0.00000  \n",
       "2         0.00000  "
      ]
     },
     "execution_count": 4,
     "metadata": {},
     "output_type": "execute_result"
    }
   ],
   "source": [
    "pd.options.display.float_format = '{:.5f}'.format\n",
    "\n",
    "variables = ['math score', 'reading score' , 'writing score']\n",
    "distribution_tests = pd.DataFrame(columns=['variable', 'jarque_bera_stats', 'jarque_bera_p_value', \n",
    "                                         'normal_stats', 'normal_p_value'])\n",
    "\n",
    "for variable in variables:\n",
    "    jb_stats = jarque_bera(np.log(df[df[variable] != 0][variable]))\n",
    "    norm_stats = normaltest(np.log(df[df[variable] != 0][variable]))\n",
    "    distribution_tests = distribution_tests.append({\"variable\": variable,\n",
    "                                                \"jarque_bera_stats\" : jb_stats[0] ,\n",
    "                                                \"jarque_bera_p_value\" : jb_stats[1] ,\n",
    "                                                \"normal_stats\": norm_stats[0] , \n",
    "                                                \"normal_p_value\" : norm_stats[1]\n",
    "                                               }, ignore_index=True)\n",
    "distribution_tests"
   ]
  },
  {
   "cell_type": "markdown",
   "metadata": {
    "id": "k5ccp691UtVJ"
   },
   "source": [
    "**(2)** We want to keep the three exam results in one variable, as the target variable. To do this, define a new variable containing the average of the three exams. Test whether the average of this new variable is normally distributed. If it does not have a normal distribution, try to make it normally distributed by transforming and test the result of the transformation."
   ]
  },
  {
   "cell_type": "code",
   "execution_count": 5,
   "metadata": {
    "id": "IqX0amoNUtVJ"
   },
   "outputs": [],
   "source": [
    "df['total score'] = (df['math score'] + df['reading score'] + df['writing score']) / 3"
   ]
  },
  {
   "cell_type": "code",
   "execution_count": 6,
   "metadata": {},
   "outputs": [
    {
     "data": {
      "image/png": "[encoded data removed]",
      "text/plain": [
       "<Figure size 432x288 with 1 Axes>"
      ]
     },
     "metadata": {
      "needs_background": "light"
     },
     "output_type": "display_data"
    }
   ],
   "source": [
    "plt.hist(df['total score'], bins=30)\n",
    "plt.title('Total Score')\n",
    "plt.show()"
   ]
  },
  {
   "cell_type": "code",
   "execution_count": 7,
   "metadata": {},
   "outputs": [
    {
     "name": "stdout",
     "output_type": "stream",
     "text": [
      "variable: total score\n",
      "jarque_bera_stats: 2167.03935\n",
      "jarque_bera_p_value: 0.00000\n",
      "normal_stats: 361.83694\n",
      "normal_p_value: 0.00000\n"
     ]
    }
   ],
   "source": [
    "jb_stats = jarque_bera(np.log(df[df['total score'] != 0]['total score']))\n",
    "norm_stats = normaltest(np.log(df[df['total score'] != 0]['total score']))\n",
    "print(\n",
    "    \"variable: {}\".format('total score'),\n",
    "    \"jarque_bera_stats: {:.5f}\".format(jb_stats[0]),\n",
    "    \"jarque_bera_p_value: {:.5f}\".format(jb_stats[1]),\n",
    "    \"normal_stats: {:.5f}\".format(norm_stats[0]),\n",
    "    \"normal_p_value: {:.5f}\".format(norm_stats[1]),\n",
    "    sep='\\n'\n",
    ")"
   ]
  },
  {
   "cell_type": "code",
   "execution_count": 8,
   "metadata": {},
   "outputs": [],
   "source": [
    "df['total score normalized'] = normalize(np.array(df['total score']).reshape(1, -1)).reshape(-1, 1)"
   ]
  },
  {
   "cell_type": "code",
   "execution_count": 9,
   "metadata": {},
   "outputs": [
    {
     "data": {
      "image/png": "[encoded data removed]",
      "text/plain": [
       "<Figure size 432x288 with 1 Axes>"
      ]
     },
     "metadata": {
      "needs_background": "light"
     },
     "output_type": "display_data"
    }
   ],
   "source": [
    "plt.hist(df['total score normalized'], bins=30)\n",
    "plt.title('Total Score (Normalized)')\n",
    "plt.show()"
   ]
  },
  {
   "cell_type": "code",
   "execution_count": 10,
   "metadata": {},
   "outputs": [
    {
     "name": "stdout",
     "output_type": "stream",
     "text": [
      "variable: total score\n",
      "jarque_bera_stats: 15.45339\n",
      "jarque_bera_p_value: 0.00044\n",
      "normal_stats: 15.18672\n",
      "normal_p_value: 0.00050\n"
     ]
    }
   ],
   "source": [
    "jb_stats = jarque_bera(df['total score normalized'])\n",
    "norm_stats = normaltest(df['total score normalized'])\n",
    "print(\n",
    "    \"variable: {}\".format('total score'),\n",
    "    \"jarque_bera_stats: {:.5f}\".format(jb_stats[0]),\n",
    "    \"jarque_bera_p_value: {:.5f}\".format(jb_stats[1]),\n",
    "    \"normal_stats: {:.5f}\".format(norm_stats[0]),\n",
    "    \"normal_p_value: {:.5f}\".format(norm_stats[1]),\n",
    "    sep='\\n'\n",
    ")"
   ]
  },
  {
   "cell_type": "markdown",
   "metadata": {
    "id": "sS9hFnzxUtVK"
   },
   "source": [
    "**(3)** Which variables seem to be related to the target variable we created in the previous question? If our goal was to explain the factors that determine the success of the exam, which variables should we keep in our data set?"
   ]
  },
  {
   "cell_type": "code",
   "execution_count": 11,
   "metadata": {},
   "outputs": [
    {
     "name": "stdout",
     "output_type": "stream",
     "text": [
      "gender\n",
      "female   69.56950\n",
      "male     65.83748\n",
      "Name: total score, dtype: float64 \n",
      "\n",
      "race/ethnicity\n",
      "group A   62.99251\n",
      "group B   65.46842\n",
      "group C   67.13166\n",
      "group D   69.17939\n",
      "group E   72.75238\n",
      "Name: total score, dtype: float64 \n",
      "\n",
      "parental level of education\n",
      "associate's degree   69.56907\n",
      "bachelor's degree    71.92373\n",
      "high school          63.09694\n",
      "master's degree      73.59887\n",
      "some college         68.47640\n",
      "some high school     65.10801\n",
      "Name: total score, dtype: float64 \n",
      "\n",
      "lunch\n",
      "free/reduced   62.19906\n",
      "standard       70.83721\n",
      "Name: total score, dtype: float64 \n",
      "\n",
      "test preparation course\n",
      "completed   72.66946\n",
      "none        65.03894\n",
      "Name: total score, dtype: float64\n"
     ]
    }
   ],
   "source": [
    "print(df.groupby('gender')['total score'].mean(), \"\\n\")\n",
    "print(df.groupby('race/ethnicity')['total score'].mean(), \"\\n\")\n",
    "print(df.groupby('parental level of education')['total score'].mean(), \"\\n\")\n",
    "print(df.groupby('lunch')['total score'].mean(), \"\\n\")\n",
    "print(df.groupby('test preparation course')['total score'].mean())"
   ]
  },
  {
   "cell_type": "code",
   "execution_count": 12,
   "metadata": {
    "id": "Mz2juM1HUtVK"
   },
   "outputs": [],
   "source": [
    "df['gender_num'] = pd.get_dummies(df['gender'], drop_first=True).rename({'male': 'gender_num'}, axis=1)\n",
    "df['race/ethnicity_num'] = df['race/ethnicity'].replace({'group A': 0, 'group B': 1, 'group C': 2, 'group D': 4, 'group E': 5})\n",
    "df['parental_education_num'] = df['parental level of education'].replace(\n",
    "    {\"some high school\": 0,\n",
    "     \"high school\": 1,\n",
    "     \"some college\": 2,\n",
    "     \"associate's degree\": 4,\n",
    "     \"bachelor's degree\": 5,\n",
    "     \"master's degree\": 6})\n",
    "df['lunch_num'] = df['lunch'].replace({'free/reduced': 0, 'standard': 1})\n",
    "df['test_prep_num'] = df['test preparation course'].replace({'none': 0, 'completed': 1})"
   ]
  },
  {
   "cell_type": "code",
   "execution_count": 13,
   "metadata": {},
   "outputs": [
    {
     "data": {
      "text/html": [
       "<div>\n",
       "<style scoped>\n",
       "    .dataframe tbody tr th:only-of-type {\n",
       "        vertical-align: middle;\n",
       "    }\n",
       "\n",
       "    .dataframe tbody tr th {\n",
       "        vertical-align: top;\n",
       "    }\n",
       "\n",
       "    .dataframe thead th {\n",
       "        text-align: right;\n",
       "    }\n",
       "</style>\n",
       "<table border=\"1\" class=\"dataframe\">\n",
       "  <thead>\n",
       "    <tr style=\"text-align: right;\">\n",
       "      <th></th>\n",
       "      <th>total score</th>\n",
       "      <th>gender_num</th>\n",
       "      <th>race/ethnicity_num</th>\n",
       "      <th>parental_education_num</th>\n",
       "      <th>lunch_num</th>\n",
       "      <th>test_prep_num</th>\n",
       "    </tr>\n",
       "  </thead>\n",
       "  <tbody>\n",
       "    <tr>\n",
       "      <th>total score</th>\n",
       "      <td>1.00000</td>\n",
       "      <td>-0.13086</td>\n",
       "      <td>0.18198</td>\n",
       "      <td>0.20461</td>\n",
       "      <td>0.29006</td>\n",
       "      <td>0.25671</td>\n",
       "    </tr>\n",
       "    <tr>\n",
       "      <th>gender_num</th>\n",
       "      <td>-0.13086</td>\n",
       "      <td>1.00000</td>\n",
       "      <td>0.01181</td>\n",
       "      <td>-0.04272</td>\n",
       "      <td>0.02137</td>\n",
       "      <td>0.00603</td>\n",
       "    </tr>\n",
       "    <tr>\n",
       "      <th>race/ethnicity_num</th>\n",
       "      <td>0.18198</td>\n",
       "      <td>0.01181</td>\n",
       "      <td>1.00000</td>\n",
       "      <td>0.08109</td>\n",
       "      <td>0.04274</td>\n",
       "      <td>0.01023</td>\n",
       "    </tr>\n",
       "    <tr>\n",
       "      <th>parental_education_num</th>\n",
       "      <td>0.20461</td>\n",
       "      <td>-0.04272</td>\n",
       "      <td>0.08109</td>\n",
       "      <td>1.00000</td>\n",
       "      <td>-0.02166</td>\n",
       "      <td>0.00018</td>\n",
       "    </tr>\n",
       "    <tr>\n",
       "      <th>lunch_num</th>\n",
       "      <td>0.29006</td>\n",
       "      <td>0.02137</td>\n",
       "      <td>0.04274</td>\n",
       "      <td>-0.02166</td>\n",
       "      <td>1.00000</td>\n",
       "      <td>-0.01704</td>\n",
       "    </tr>\n",
       "    <tr>\n",
       "      <th>test_prep_num</th>\n",
       "      <td>0.25671</td>\n",
       "      <td>0.00603</td>\n",
       "      <td>0.01023</td>\n",
       "      <td>0.00018</td>\n",
       "      <td>-0.01704</td>\n",
       "      <td>1.00000</td>\n",
       "    </tr>\n",
       "  </tbody>\n",
       "</table>\n",
       "</div>"
      ],
      "text/plain": [
       "                        total score  gender_num  race/ethnicity_num  \\\n",
       "total score                 1.00000    -0.13086             0.18198   \n",
       "gender_num                 -0.13086     1.00000             0.01181   \n",
       "race/ethnicity_num          0.18198     0.01181             1.00000   \n",
       "parental_education_num      0.20461    -0.04272             0.08109   \n",
       "lunch_num                   0.29006     0.02137             0.04274   \n",
       "test_prep_num               0.25671     0.00603             0.01023   \n",
       "\n",
       "                        parental_education_num  lunch_num  test_prep_num  \n",
       "total score                            0.20461    0.29006        0.25671  \n",
       "gender_num                            -0.04272    0.02137        0.00603  \n",
       "race/ethnicity_num                     0.08109    0.04274        0.01023  \n",
       "parental_education_num                 1.00000   -0.02166        0.00018  \n",
       "lunch_num                             -0.02166    1.00000       -0.01704  \n",
       "test_prep_num                          0.00018   -0.01704        1.00000  "
      ]
     },
     "execution_count": 13,
     "metadata": {},
     "output_type": "execute_result"
    }
   ],
   "source": [
    "df.drop(['gender', 'race/ethnicity', 'parental level of education', 'lunch', 'test preparation course',\n",
    "         'math score', 'reading score', 'writing score', 'total score normalized'], axis=1).corr()"
   ]
  },
  {
   "cell_type": "code",
   "execution_count": 14,
   "metadata": {},
   "outputs": [
    {
     "data": {
      "image/png": "[encoded data removed]",
      "text/plain": [
       "<Figure size 576x576 with 2 Axes>"
      ]
     },
     "metadata": {
      "needs_background": "light"
     },
     "output_type": "display_data"
    }
   ],
   "source": [
    "plt.figure(figsize=(8, 8))\n",
    "sns.heatmap(df.drop(['gender', 'race/ethnicity', 'parental level of education', 'lunch', 'test preparation course',\n",
    "         'math score', 'reading score', 'writing score', 'total score normalized'], axis=1).corr(),\n",
    "            annot=True)\n",
    "plt.show()"
   ]
  },
  {
   "cell_type": "markdown",
   "metadata": {},
   "source": [
    "**lunch** and **test preparation course** variables seem to have the highest correlation with the target variable **total score**."
   ]
  },
  {
   "cell_type": "markdown",
   "metadata": {
    "id": "jX7dW1JvUtVL"
   },
   "source": [
    "**(4)** Does the test preparation course have an impact on the target variable you created?"
   ]
  },
  {
   "cell_type": "code",
   "execution_count": 15,
   "metadata": {},
   "outputs": [
    {
     "name": "stdout",
     "output_type": "stream",
     "text": [
      "test preparation course\n",
      "completed   72.66946\n",
      "none        65.03894\n",
      "Name: total score, dtype: float64\n"
     ]
    }
   ],
   "source": [
    "print(df.groupby('test preparation course')['total score'].mean())"
   ]
  },
  {
   "cell_type": "markdown",
   "metadata": {
    "id": "qeNp6NGTUtVL"
   },
   "source": [
    "Yes, it has the **second highest correlation** with the target variable, after lunch. Also, average score of the people who completed test perparation course and those who not differ by _7 points_."
   ]
  }
 ],
 "metadata": {
  "colab": {
   "name": "A_07_FeatureEngineeringPart1 _en.ipynb",
   "provenance": []
  },
  "kernelspec": {
   "display_name": "Python 3",
   "language": "python",
   "name": "python3"
  },
  "language_info": {
   "codemirror_mode": {
    "name": "ipython",
    "version": 3
   },
   "file_extension": ".py",
   "mimetype": "text/x-python",
   "name": "python",
   "nbconvert_exporter": "python",
   "pygments_lexer": "ipython3",
   "version": "3.8.5"
  }
 },
 "nbformat": 4,
 "nbformat_minor": 1
}
