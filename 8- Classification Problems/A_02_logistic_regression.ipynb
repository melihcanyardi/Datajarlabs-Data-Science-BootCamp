{
 "cells": [
  {
   "cell_type": "markdown",
   "metadata": {
    "id": "YQLahFeWJpV4"
   },
   "source": [
    "- In this assignment, you are going to use your model to predict survival of the Titanic disaster. For this assignment, send a link to a Jupyter notebook containing solutions to the following tasks.\n",
    "  - Download Titanic data from Kaggle. The data in the train.csv file meets your need.\n",
    "  - Split your data into training and test sets.\n",
    "  - Predict the survival based on the test data you split by creating your model.\n",
    "  - Is your model's performance satisfactory? Explain.\n",
    "  - Try to improve your model's performance by adding or subtracting some variables.\n",
    "- Explore the advantages and disadvantages of Logistic Regression and discuss with your mentor."
   ]
  },
  {
   "cell_type": "code",
   "execution_count": 1,
   "metadata": {},
   "outputs": [],
   "source": [
    "import numpy as np\n",
    "import pandas as pd\n",
    "\n",
    "from sklearn.model_selection import train_test_split\n",
    "from sklearn.linear_model import LogisticRegression\n",
    "\n",
    "from sklearn.preprocessing import Normalizer\n",
    "from sklearn.preprocessing import StandardScaler"
   ]
  },
  {
   "cell_type": "code",
   "execution_count": 2,
   "metadata": {},
   "outputs": [
    {
     "data": {
      "text/html": [
       "<div>\n",
       "<style scoped>\n",
       "    .dataframe tbody tr th:only-of-type {\n",
       "        vertical-align: middle;\n",
       "    }\n",
       "\n",
       "    .dataframe tbody tr th {\n",
       "        vertical-align: top;\n",
       "    }\n",
       "\n",
       "    .dataframe thead th {\n",
       "        text-align: right;\n",
       "    }\n",
       "</style>\n",
       "<table border=\"1\" class=\"dataframe\">\n",
       "  <thead>\n",
       "    <tr style=\"text-align: right;\">\n",
       "      <th></th>\n",
       "      <th>PassengerId</th>\n",
       "      <th>Survived</th>\n",
       "      <th>Pclass</th>\n",
       "      <th>Name</th>\n",
       "      <th>Sex</th>\n",
       "      <th>Age</th>\n",
       "      <th>SibSp</th>\n",
       "      <th>Parch</th>\n",
       "      <th>Ticket</th>\n",
       "      <th>Fare</th>\n",
       "      <th>Cabin</th>\n",
       "      <th>Embarked</th>\n",
       "    </tr>\n",
       "  </thead>\n",
       "  <tbody>\n",
       "    <tr>\n",
       "      <th>0</th>\n",
       "      <td>1</td>\n",
       "      <td>0</td>\n",
       "      <td>3</td>\n",
       "      <td>Braund, Mr. Owen Harris</td>\n",
       "      <td>male</td>\n",
       "      <td>22.0</td>\n",
       "      <td>1</td>\n",
       "      <td>0</td>\n",
       "      <td>A/5 21171</td>\n",
       "      <td>7.2500</td>\n",
       "      <td>NaN</td>\n",
       "      <td>S</td>\n",
       "    </tr>\n",
       "    <tr>\n",
       "      <th>1</th>\n",
       "      <td>2</td>\n",
       "      <td>1</td>\n",
       "      <td>1</td>\n",
       "      <td>Cumings, Mrs. John Bradley (Florence Briggs Th...</td>\n",
       "      <td>female</td>\n",
       "      <td>38.0</td>\n",
       "      <td>1</td>\n",
       "      <td>0</td>\n",
       "      <td>PC 17599</td>\n",
       "      <td>71.2833</td>\n",
       "      <td>C85</td>\n",
       "      <td>C</td>\n",
       "    </tr>\n",
       "    <tr>\n",
       "      <th>2</th>\n",
       "      <td>3</td>\n",
       "      <td>1</td>\n",
       "      <td>3</td>\n",
       "      <td>Heikkinen, Miss. Laina</td>\n",
       "      <td>female</td>\n",
       "      <td>26.0</td>\n",
       "      <td>0</td>\n",
       "      <td>0</td>\n",
       "      <td>STON/O2. 3101282</td>\n",
       "      <td>7.9250</td>\n",
       "      <td>NaN</td>\n",
       "      <td>S</td>\n",
       "    </tr>\n",
       "    <tr>\n",
       "      <th>3</th>\n",
       "      <td>4</td>\n",
       "      <td>1</td>\n",
       "      <td>1</td>\n",
       "      <td>Futrelle, Mrs. Jacques Heath (Lily May Peel)</td>\n",
       "      <td>female</td>\n",
       "      <td>35.0</td>\n",
       "      <td>1</td>\n",
       "      <td>0</td>\n",
       "      <td>113803</td>\n",
       "      <td>53.1000</td>\n",
       "      <td>C123</td>\n",
       "      <td>S</td>\n",
       "    </tr>\n",
       "    <tr>\n",
       "      <th>4</th>\n",
       "      <td>5</td>\n",
       "      <td>0</td>\n",
       "      <td>3</td>\n",
       "      <td>Allen, Mr. William Henry</td>\n",
       "      <td>male</td>\n",
       "      <td>35.0</td>\n",
       "      <td>0</td>\n",
       "      <td>0</td>\n",
       "      <td>373450</td>\n",
       "      <td>8.0500</td>\n",
       "      <td>NaN</td>\n",
       "      <td>S</td>\n",
       "    </tr>\n",
       "  </tbody>\n",
       "</table>\n",
       "</div>"
      ],
      "text/plain": [
       "   PassengerId  Survived  Pclass  \\\n",
       "0            1         0       3   \n",
       "1            2         1       1   \n",
       "2            3         1       3   \n",
       "3            4         1       1   \n",
       "4            5         0       3   \n",
       "\n",
       "                                                Name     Sex   Age  SibSp  \\\n",
       "0                            Braund, Mr. Owen Harris    male  22.0      1   \n",
       "1  Cumings, Mrs. John Bradley (Florence Briggs Th...  female  38.0      1   \n",
       "2                             Heikkinen, Miss. Laina  female  26.0      0   \n",
       "3       Futrelle, Mrs. Jacques Heath (Lily May Peel)  female  35.0      1   \n",
       "4                           Allen, Mr. William Henry    male  35.0      0   \n",
       "\n",
       "   Parch            Ticket     Fare Cabin Embarked  \n",
       "0      0         A/5 21171   7.2500   NaN        S  \n",
       "1      0          PC 17599  71.2833   C85        C  \n",
       "2      0  STON/O2. 3101282   7.9250   NaN        S  \n",
       "3      0            113803  53.1000  C123        S  \n",
       "4      0            373450   8.0500   NaN        S  "
      ]
     },
     "execution_count": 2,
     "metadata": {},
     "output_type": "execute_result"
    }
   ],
   "source": [
    "df = pd.read_csv('train.csv')\n",
    "\n",
    "df.head()"
   ]
  },
  {
   "cell_type": "code",
   "execution_count": 3,
   "metadata": {},
   "outputs": [
    {
     "name": "stdout",
     "output_type": "stream",
     "text": [
      "<class 'pandas.core.frame.DataFrame'>\n",
      "RangeIndex: 891 entries, 0 to 890\n",
      "Data columns (total 12 columns):\n",
      " #   Column       Non-Null Count  Dtype  \n",
      "---  ------       --------------  -----  \n",
      " 0   PassengerId  891 non-null    int64  \n",
      " 1   Survived     891 non-null    int64  \n",
      " 2   Pclass       891 non-null    int64  \n",
      " 3   Name         891 non-null    object \n",
      " 4   Sex          891 non-null    object \n",
      " 5   Age          714 non-null    float64\n",
      " 6   SibSp        891 non-null    int64  \n",
      " 7   Parch        891 non-null    int64  \n",
      " 8   Ticket       891 non-null    object \n",
      " 9   Fare         891 non-null    float64\n",
      " 10  Cabin        204 non-null    object \n",
      " 11  Embarked     889 non-null    object \n",
      "dtypes: float64(2), int64(5), object(5)\n",
      "memory usage: 83.7+ KB\n"
     ]
    }
   ],
   "source": [
    "df.info()"
   ]
  },
  {
   "cell_type": "code",
   "execution_count": 4,
   "metadata": {},
   "outputs": [],
   "source": [
    "df['Age'] = df['Age'].fillna(int(df['Age'].mean())).astype('int64')\n",
    "df['Embarked'] = df['Embarked'].fillna(df['Embarked'].value_counts().index[0])\n",
    "df.drop('PassengerId', axis=1, inplace=True)\n",
    "df.drop('Cabin', axis=1, inplace=True)\n",
    "df.drop('Name', axis=1, inplace=True)\n",
    "df.drop('Ticket', axis=1, inplace=True)\n",
    "df['Sex'] = pd.get_dummies(df['Sex'], drop_first=True).rename(columns={'male':'Sex'})\n",
    "\n",
    "df = pd.concat([df.drop('Embarked', axis=1), pd.get_dummies(df['Embarked'], drop_first=True).rename({})], axis=1)"
   ]
  },
  {
   "cell_type": "code",
   "execution_count": 5,
   "metadata": {},
   "outputs": [
    {
     "data": {
      "text/html": [
       "<div>\n",
       "<style scoped>\n",
       "    .dataframe tbody tr th:only-of-type {\n",
       "        vertical-align: middle;\n",
       "    }\n",
       "\n",
       "    .dataframe tbody tr th {\n",
       "        vertical-align: top;\n",
       "    }\n",
       "\n",
       "    .dataframe thead th {\n",
       "        text-align: right;\n",
       "    }\n",
       "</style>\n",
       "<table border=\"1\" class=\"dataframe\">\n",
       "  <thead>\n",
       "    <tr style=\"text-align: right;\">\n",
       "      <th></th>\n",
       "      <th>Survived</th>\n",
       "      <th>Pclass</th>\n",
       "      <th>Sex</th>\n",
       "      <th>Age</th>\n",
       "      <th>SibSp</th>\n",
       "      <th>Parch</th>\n",
       "      <th>Fare</th>\n",
       "      <th>Q</th>\n",
       "      <th>S</th>\n",
       "    </tr>\n",
       "  </thead>\n",
       "  <tbody>\n",
       "    <tr>\n",
       "      <th>0</th>\n",
       "      <td>0</td>\n",
       "      <td>3</td>\n",
       "      <td>1</td>\n",
       "      <td>22</td>\n",
       "      <td>1</td>\n",
       "      <td>0</td>\n",
       "      <td>7.2500</td>\n",
       "      <td>0</td>\n",
       "      <td>1</td>\n",
       "    </tr>\n",
       "    <tr>\n",
       "      <th>1</th>\n",
       "      <td>1</td>\n",
       "      <td>1</td>\n",
       "      <td>0</td>\n",
       "      <td>38</td>\n",
       "      <td>1</td>\n",
       "      <td>0</td>\n",
       "      <td>71.2833</td>\n",
       "      <td>0</td>\n",
       "      <td>0</td>\n",
       "    </tr>\n",
       "    <tr>\n",
       "      <th>2</th>\n",
       "      <td>1</td>\n",
       "      <td>3</td>\n",
       "      <td>0</td>\n",
       "      <td>26</td>\n",
       "      <td>0</td>\n",
       "      <td>0</td>\n",
       "      <td>7.9250</td>\n",
       "      <td>0</td>\n",
       "      <td>1</td>\n",
       "    </tr>\n",
       "    <tr>\n",
       "      <th>3</th>\n",
       "      <td>1</td>\n",
       "      <td>1</td>\n",
       "      <td>0</td>\n",
       "      <td>35</td>\n",
       "      <td>1</td>\n",
       "      <td>0</td>\n",
       "      <td>53.1000</td>\n",
       "      <td>0</td>\n",
       "      <td>1</td>\n",
       "    </tr>\n",
       "    <tr>\n",
       "      <th>4</th>\n",
       "      <td>0</td>\n",
       "      <td>3</td>\n",
       "      <td>1</td>\n",
       "      <td>35</td>\n",
       "      <td>0</td>\n",
       "      <td>0</td>\n",
       "      <td>8.0500</td>\n",
       "      <td>0</td>\n",
       "      <td>1</td>\n",
       "    </tr>\n",
       "  </tbody>\n",
       "</table>\n",
       "</div>"
      ],
      "text/plain": [
       "   Survived  Pclass  Sex  Age  SibSp  Parch     Fare  Q  S\n",
       "0         0       3    1   22      1      0   7.2500  0  1\n",
       "1         1       1    0   38      1      0  71.2833  0  0\n",
       "2         1       3    0   26      0      0   7.9250  0  1\n",
       "3         1       1    0   35      1      0  53.1000  0  1\n",
       "4         0       3    1   35      0      0   8.0500  0  1"
      ]
     },
     "execution_count": 5,
     "metadata": {},
     "output_type": "execute_result"
    }
   ],
   "source": [
    "df.head()"
   ]
  },
  {
   "cell_type": "code",
   "execution_count": 6,
   "metadata": {},
   "outputs": [
    {
     "name": "stdout",
     "output_type": "stream",
     "text": [
      "<class 'pandas.core.frame.DataFrame'>\n",
      "RangeIndex: 891 entries, 0 to 890\n",
      "Data columns (total 9 columns):\n",
      " #   Column    Non-Null Count  Dtype  \n",
      "---  ------    --------------  -----  \n",
      " 0   Survived  891 non-null    int64  \n",
      " 1   Pclass    891 non-null    int64  \n",
      " 2   Sex       891 non-null    uint8  \n",
      " 3   Age       891 non-null    int64  \n",
      " 4   SibSp     891 non-null    int64  \n",
      " 5   Parch     891 non-null    int64  \n",
      " 6   Fare      891 non-null    float64\n",
      " 7   Q         891 non-null    uint8  \n",
      " 8   S         891 non-null    uint8  \n",
      "dtypes: float64(1), int64(5), uint8(3)\n",
      "memory usage: 44.5 KB\n"
     ]
    }
   ],
   "source": [
    "df.info()"
   ]
  },
  {
   "cell_type": "code",
   "execution_count": 7,
   "metadata": {},
   "outputs": [],
   "source": [
    "X = df.drop('Survived', axis=1)\n",
    "y = df['Survived']"
   ]
  },
  {
   "cell_type": "code",
   "execution_count": 8,
   "metadata": {},
   "outputs": [],
   "source": [
    "X_train, X_test, y_train, y_test = train_test_split(X, y, test_size=0.33, random_state=42)"
   ]
  },
  {
   "cell_type": "code",
   "execution_count": 9,
   "metadata": {},
   "outputs": [
    {
     "data": {
      "text/plain": [
       "LogisticRegression(max_iter=1000)"
      ]
     },
     "execution_count": 9,
     "metadata": {},
     "output_type": "execute_result"
    }
   ],
   "source": [
    "lr = LogisticRegression(max_iter=1000)\n",
    "\n",
    "lr.fit(X_train, y_train)"
   ]
  },
  {
   "cell_type": "code",
   "execution_count": 10,
   "metadata": {},
   "outputs": [],
   "source": [
    "train_accuracy = lr.score(X_train, y_train)\n",
    "test_accuracy = lr.score(X_test, y_test)"
   ]
  },
  {
   "cell_type": "code",
   "execution_count": 11,
   "metadata": {},
   "outputs": [
    {
     "name": "stdout",
     "output_type": "stream",
     "text": [
      "Train accuracy: 0.8003355704697986\n",
      "Test accuracy: 0.8135593220338984\n"
     ]
    }
   ],
   "source": [
    "print(\"Train accuracy: {}\".format(train_accuracy))\n",
    "print(\"Test accuracy: {}\".format(test_accuracy))"
   ]
  },
  {
   "cell_type": "code",
   "execution_count": 12,
   "metadata": {},
   "outputs": [
    {
     "data": {
      "text/html": [
       "<div>\n",
       "<style scoped>\n",
       "    .dataframe tbody tr th:only-of-type {\n",
       "        vertical-align: middle;\n",
       "    }\n",
       "\n",
       "    .dataframe tbody tr th {\n",
       "        vertical-align: top;\n",
       "    }\n",
       "\n",
       "    .dataframe thead th {\n",
       "        text-align: right;\n",
       "    }\n",
       "</style>\n",
       "<table border=\"1\" class=\"dataframe\">\n",
       "  <thead>\n",
       "    <tr style=\"text-align: right;\">\n",
       "      <th></th>\n",
       "      <th>C_values</th>\n",
       "      <th>Train Accuracy</th>\n",
       "      <th>Test Accuracy</th>\n",
       "    </tr>\n",
       "  </thead>\n",
       "  <tbody>\n",
       "    <tr>\n",
       "      <th>0</th>\n",
       "      <td>0.001</td>\n",
       "      <td>0.679530</td>\n",
       "      <td>0.661017</td>\n",
       "    </tr>\n",
       "    <tr>\n",
       "      <th>1</th>\n",
       "      <td>0.010</td>\n",
       "      <td>0.728188</td>\n",
       "      <td>0.715254</td>\n",
       "    </tr>\n",
       "    <tr>\n",
       "      <th>2</th>\n",
       "      <td>0.100</td>\n",
       "      <td>0.810403</td>\n",
       "      <td>0.823729</td>\n",
       "    </tr>\n",
       "    <tr>\n",
       "      <th>3</th>\n",
       "      <td>1.000</td>\n",
       "      <td>0.800336</td>\n",
       "      <td>0.813559</td>\n",
       "    </tr>\n",
       "    <tr>\n",
       "      <th>4</th>\n",
       "      <td>10.000</td>\n",
       "      <td>0.798658</td>\n",
       "      <td>0.813559</td>\n",
       "    </tr>\n",
       "    <tr>\n",
       "      <th>5</th>\n",
       "      <td>100.000</td>\n",
       "      <td>0.800336</td>\n",
       "      <td>0.813559</td>\n",
       "    </tr>\n",
       "    <tr>\n",
       "      <th>6</th>\n",
       "      <td>1000.000</td>\n",
       "      <td>0.798658</td>\n",
       "      <td>0.813559</td>\n",
       "    </tr>\n",
       "  </tbody>\n",
       "</table>\n",
       "</div>"
      ],
      "text/plain": [
       "   C_values  Train Accuracy  Test Accuracy\n",
       "0     0.001        0.679530       0.661017\n",
       "1     0.010        0.728188       0.715254\n",
       "2     0.100        0.810403       0.823729\n",
       "3     1.000        0.800336       0.813559\n",
       "4    10.000        0.798658       0.813559\n",
       "5   100.000        0.800336       0.813559\n",
       "6  1000.000        0.798658       0.813559"
      ]
     },
     "metadata": {},
     "output_type": "display_data"
    }
   ],
   "source": [
    "C_values = [0.001,0.01, 0.1,1,10,100, 1000]\n",
    "\n",
    "accuracy_values = pd.DataFrame(columns=['C_values', 'Train Accuracy', 'Test Accuracy'])\n",
    "\n",
    "for c in C_values:\n",
    "    lr = LogisticRegression(max_iter=1000, penalty = 'l2', C = c, random_state = 0, solver='lbfgs')\n",
    "    lr.fit(X_train, y_train)\n",
    "    accuracy_values = accuracy_values.append({'C_values': c,\n",
    "                                              'Train Accuracy': lr.score(X_train, y_train),\n",
    "                                              'Test Accuracy': lr.score(X_test, y_test)\n",
    "                                             }, ignore_index=True)\n",
    "display(accuracy_values)    "
   ]
  },
  {
   "cell_type": "markdown",
   "metadata": {},
   "source": [
    "c = 0.1 returns best results for both train and test accuracy."
   ]
  },
  {
   "cell_type": "code",
   "execution_count": 13,
   "metadata": {},
   "outputs": [],
   "source": [
    "def select_columns(columns):\n",
    "    X_selected = X.iloc[:, columns]\n",
    "    X_train, X_test, y_train, y_test = train_test_split(X_selected, y, test_size=0.33, random_state=42)\n",
    "    lr = LogisticRegression(max_iter=1000, penalty = 'l2', C = 0.1, random_state = 0, solver='lbfgs')\n",
    "    lr.fit(X_train, y_train)\n",
    "    train_accuracy = lr.score(X_train, y_train)\n",
    "    test_accuracy = lr.score(X_test, y_test)\n",
    "    column_scores = pd.DataFrame(columns=['Columns', 'Train Accuracy', 'Test Accuracy'])\n",
    "    column_scores = column_scores.append({'Columns': ', '.join(list(X_selected.columns)),\n",
    "                                          'Train Accuracy': lr.score(X_train, y_train),\n",
    "                                          'Test Accuracy': lr.score(X_test, y_test)\n",
    "                                         }, ignore_index=True)\n",
    "    return column_scores"
   ]
  },
  {
   "cell_type": "code",
   "execution_count": 14,
   "metadata": {},
   "outputs": [
    {
     "name": "stdout",
     "output_type": "stream",
     "text": [
      "Sorted first by Train Accuracy, then by Test Accuracy:\n"
     ]
    },
    {
     "data": {
      "text/html": [
       "<div>\n",
       "<style scoped>\n",
       "    .dataframe tbody tr th:only-of-type {\n",
       "        vertical-align: middle;\n",
       "    }\n",
       "\n",
       "    .dataframe tbody tr th {\n",
       "        vertical-align: top;\n",
       "    }\n",
       "\n",
       "    .dataframe thead th {\n",
       "        text-align: right;\n",
       "    }\n",
       "</style>\n",
       "<table border=\"1\" class=\"dataframe\">\n",
       "  <thead>\n",
       "    <tr style=\"text-align: right;\">\n",
       "      <th></th>\n",
       "      <th>Columns</th>\n",
       "      <th>Train Accuracy</th>\n",
       "      <th>Test Accuracy</th>\n",
       "    </tr>\n",
       "  </thead>\n",
       "  <tbody>\n",
       "    <tr>\n",
       "      <th>24</th>\n",
       "      <td>Pclass, Sex, Q, S</td>\n",
       "      <td>0.813758</td>\n",
       "      <td>0.776271</td>\n",
       "    </tr>\n",
       "    <tr>\n",
       "      <th>28</th>\n",
       "      <td>Pclass, Sex, S</td>\n",
       "      <td>0.813758</td>\n",
       "      <td>0.776271</td>\n",
       "    </tr>\n",
       "    <tr>\n",
       "      <th>13</th>\n",
       "      <td>Pclass, Sex, Parch, Fare, Q, S</td>\n",
       "      <td>0.812081</td>\n",
       "      <td>0.783051</td>\n",
       "    </tr>\n",
       "    <tr>\n",
       "      <th>3</th>\n",
       "      <td>Pclass, Sex, Age, SibSp, Parch, Q, S</td>\n",
       "      <td>0.810403</td>\n",
       "      <td>0.827119</td>\n",
       "    </tr>\n",
       "    <tr>\n",
       "      <th>10</th>\n",
       "      <td>Pclass, Sex, Age, SibSp, Parch, S</td>\n",
       "      <td>0.810403</td>\n",
       "      <td>0.827119</td>\n",
       "    </tr>\n",
       "  </tbody>\n",
       "</table>\n",
       "</div>"
      ],
      "text/plain": [
       "                                 Columns  Train Accuracy  Test Accuracy\n",
       "24                     Pclass, Sex, Q, S        0.813758       0.776271\n",
       "28                        Pclass, Sex, S        0.813758       0.776271\n",
       "13        Pclass, Sex, Parch, Fare, Q, S        0.812081       0.783051\n",
       "3   Pclass, Sex, Age, SibSp, Parch, Q, S        0.810403       0.827119\n",
       "10     Pclass, Sex, Age, SibSp, Parch, S        0.810403       0.827119"
      ]
     },
     "metadata": {},
     "output_type": "display_data"
    },
    {
     "name": "stdout",
     "output_type": "stream",
     "text": [
      "Sorted first by Test Accuracy, then by Train Accuracy:\n"
     ]
    },
    {
     "data": {
      "text/html": [
       "<div>\n",
       "<style scoped>\n",
       "    .dataframe tbody tr th:only-of-type {\n",
       "        vertical-align: middle;\n",
       "    }\n",
       "\n",
       "    .dataframe tbody tr th {\n",
       "        vertical-align: top;\n",
       "    }\n",
       "\n",
       "    .dataframe thead th {\n",
       "        text-align: right;\n",
       "    }\n",
       "</style>\n",
       "<table border=\"1\" class=\"dataframe\">\n",
       "  <thead>\n",
       "    <tr style=\"text-align: right;\">\n",
       "      <th></th>\n",
       "      <th>Columns</th>\n",
       "      <th>Train Accuracy</th>\n",
       "      <th>Test Accuracy</th>\n",
       "    </tr>\n",
       "  </thead>\n",
       "  <tbody>\n",
       "    <tr>\n",
       "      <th>17</th>\n",
       "      <td>Pclass, Sex, Age, SibSp, S</td>\n",
       "      <td>0.808725</td>\n",
       "      <td>0.830508</td>\n",
       "    </tr>\n",
       "    <tr>\n",
       "      <th>16</th>\n",
       "      <td>Pclass, Sex, Age, SibSp, Parch</td>\n",
       "      <td>0.798658</td>\n",
       "      <td>0.830508</td>\n",
       "    </tr>\n",
       "    <tr>\n",
       "      <th>22</th>\n",
       "      <td>Pclass, Sex, Age, SibSp</td>\n",
       "      <td>0.796980</td>\n",
       "      <td>0.830508</td>\n",
       "    </tr>\n",
       "    <tr>\n",
       "      <th>3</th>\n",
       "      <td>Pclass, Sex, Age, SibSp, Parch, Q, S</td>\n",
       "      <td>0.810403</td>\n",
       "      <td>0.827119</td>\n",
       "    </tr>\n",
       "    <tr>\n",
       "      <th>10</th>\n",
       "      <td>Pclass, Sex, Age, SibSp, Parch, S</td>\n",
       "      <td>0.810403</td>\n",
       "      <td>0.827119</td>\n",
       "    </tr>\n",
       "  </tbody>\n",
       "</table>\n",
       "</div>"
      ],
      "text/plain": [
       "                                 Columns  Train Accuracy  Test Accuracy\n",
       "17            Pclass, Sex, Age, SibSp, S        0.808725       0.830508\n",
       "16        Pclass, Sex, Age, SibSp, Parch        0.798658       0.830508\n",
       "22               Pclass, Sex, Age, SibSp        0.796980       0.830508\n",
       "3   Pclass, Sex, Age, SibSp, Parch, Q, S        0.810403       0.827119\n",
       "10     Pclass, Sex, Age, SibSp, Parch, S        0.810403       0.827119"
      ]
     },
     "metadata": {},
     "output_type": "display_data"
    }
   ],
   "source": [
    "df_selected = pd.DataFrame(columns=['Columns', 'Train Accuracy', 'Test Accuracy'])\n",
    "df_selected = df_selected.append(select_columns([0, 1, 2, 3, 4, 5, 6, 7]))\n",
    "df_selected = df_selected.append(select_columns([0, 1, 2, 3, 4, 5, 6]))\n",
    "df_selected = df_selected.append(select_columns([0, 1, 2, 3, 4, 5, 7]))\n",
    "df_selected = df_selected.append(select_columns([0, 1, 2, 3, 4, 6, 7]))\n",
    "df_selected = df_selected.append(select_columns([0, 1, 2, 3, 5, 6, 7]))\n",
    "df_selected = df_selected.append(select_columns([0, 1, 2, 4, 5, 6, 7]))\n",
    "df_selected = df_selected.append(select_columns([0, 1, 3, 4, 5, 6, 7]))\n",
    "df_selected = df_selected.append(select_columns([0, 2, 3, 4, 5, 6, 7]))\n",
    "df_selected = df_selected.append(select_columns([1, 2, 3, 4, 5, 6, 7]))\n",
    "\n",
    "df_selected = df_selected.append(select_columns([0, 1, 2, 3, 4, 5]))\n",
    "df_selected = df_selected.append(select_columns([0, 1, 2, 3, 4, 7]))\n",
    "df_selected = df_selected.append(select_columns([0, 1, 2, 3, 6, 7]))\n",
    "df_selected = df_selected.append(select_columns([0, 1, 2, 5, 6, 7]))\n",
    "df_selected = df_selected.append(select_columns([0, 1, 4, 5, 6, 7]))\n",
    "df_selected = df_selected.append(select_columns([0, 3, 4, 5, 6, 7]))\n",
    "df_selected = df_selected.append(select_columns([2, 3, 4, 5, 6, 7]))\n",
    "\n",
    "df_selected = df_selected.append(select_columns([0, 1, 2, 3, 4]))\n",
    "df_selected = df_selected.append(select_columns([0, 1, 2, 3, 7]))\n",
    "df_selected = df_selected.append(select_columns([0, 1, 2, 6, 7]))\n",
    "df_selected = df_selected.append(select_columns([0, 1, 5, 6, 7]))\n",
    "df_selected = df_selected.append(select_columns([0, 4, 5, 6, 7]))\n",
    "df_selected = df_selected.append(select_columns([3, 4, 5, 6, 7]))\n",
    "\n",
    "df_selected = df_selected.append(select_columns([0, 1, 2, 3]))\n",
    "df_selected = df_selected.append(select_columns([0, 1, 2, 7]))\n",
    "df_selected = df_selected.append(select_columns([0, 1, 6, 7]))\n",
    "df_selected = df_selected.append(select_columns([0, 5, 6, 7]))\n",
    "df_selected = df_selected.append(select_columns([4, 5, 6, 7]))\n",
    "\n",
    "df_selected = df_selected.append(select_columns([0, 1, 2]))\n",
    "df_selected = df_selected.append(select_columns([0, 1, 7]))\n",
    "df_selected = df_selected.append(select_columns([0, 6, 7]))\n",
    "df_selected = df_selected.append(select_columns([5, 6, 7]))\n",
    "\n",
    "df_selected = df_selected.append(select_columns([0, 1]))\n",
    "df_selected = df_selected.append(select_columns([0, 7]))\n",
    "df_selected = df_selected.append(select_columns([6, 7]))\n",
    "\n",
    "df_selected = df_selected.reset_index(drop=True)\n",
    "\n",
    "print(\"Sorted first by Train Accuracy, then by Test Accuracy:\")\n",
    "display(df_selected.sort_values(['Train Accuracy', 'Test Accuracy'], ascending=False).head())\n",
    "print(\"Sorted first by Test Accuracy, then by Train Accuracy:\")\n",
    "display(df_selected.sort_values(['Test Accuracy', 'Train Accuracy'], ascending=False).head())"
   ]
  },
  {
   "cell_type": "markdown",
   "metadata": {},
   "source": [
    "### Normalization"
   ]
  },
  {
   "cell_type": "code",
   "execution_count": 15,
   "metadata": {},
   "outputs": [
    {
     "name": "stdout",
     "output_type": "stream",
     "text": [
      "Train accuracy: 0.8003355704697986\n",
      "Test accuracy: 0.8135593220338984\n",
      "\n",
      "Train accuracy (Normalized): 0.674496644295302\n",
      "Test accuracy (Normalized): 0.6915254237288135\n"
     ]
    }
   ],
   "source": [
    "normalizer = Normalizer()\n",
    "\n",
    "X_normalized = normalizer.fit_transform(X)\n",
    "\n",
    "X_train, X_test, y_train, y_test = train_test_split(X_normalized, y, test_size=0.33, random_state=42)\n",
    "\n",
    "lr = LogisticRegression(max_iter=1000)\n",
    "lr.fit(X_train, y_train)\n",
    "\n",
    "train_accuracy_norm = lr.score(X_train, y_train)\n",
    "test_accuracy_norm = lr.score(X_test, y_test)\n",
    "\n",
    "print(\"Train accuracy: {}\".format(train_accuracy))\n",
    "print(\"Test accuracy: {}\\n\".format(test_accuracy))\n",
    "print(\"Train accuracy (Normalized): {}\".format(train_accuracy_norm))\n",
    "print(\"Test accuracy (Normalized): {}\".format(test_accuracy_norm))"
   ]
  },
  {
   "cell_type": "markdown",
   "metadata": {},
   "source": [
    "### Standardization"
   ]
  },
  {
   "cell_type": "code",
   "execution_count": 16,
   "metadata": {},
   "outputs": [
    {
     "name": "stdout",
     "output_type": "stream",
     "text": [
      "Train accuracy: 0.8003355704697986\n",
      "Test accuracy: 0.8135593220338984\n",
      "\n",
      "Train accuracy (Standardized): 0.7986577181208053\n",
      "Test accuracy (Standardized): 0.8169491525423729\n"
     ]
    }
   ],
   "source": [
    "scaler = StandardScaler()\n",
    "\n",
    "X_scaled = scaler.fit_transform(X)\n",
    "\n",
    "X_train, X_test, y_train, y_test = train_test_split(X_scaled, y, test_size=0.33, random_state=42)\n",
    "\n",
    "lr = LogisticRegression(max_iter=1000)\n",
    "lr.fit(X_train, y_train)\n",
    "\n",
    "train_accuracy_std = lr.score(X_train, y_train)\n",
    "test_accuracy_std = lr.score(X_test, y_test)\n",
    "\n",
    "print(\"Train accuracy: {}\".format(train_accuracy))\n",
    "print(\"Test accuracy: {}\\n\".format(test_accuracy))\n",
    "print(\"Train accuracy (Standardized): {}\".format(train_accuracy_std))\n",
    "print(\"Test accuracy (Standardized): {}\".format(test_accuracy_std))"
   ]
  }
 ],
 "metadata": {
  "colab": {
   "authorship_tag": "ABX9TyPfB0opJxrkecE2uDB0VGQG",
   "collapsed_sections": [],
   "name": "A_02_logistic_regression.ipynb",
   "provenance": []
  },
  "kernelspec": {
   "display_name": "Python 3",
   "language": "python",
   "name": "python3"
  },
  "language_info": {
   "codemirror_mode": {
    "name": "ipython",
    "version": 3
   },
   "file_extension": ".py",
   "mimetype": "text/x-python",
   "name": "python",
   "nbconvert_exporter": "python",
   "pygments_lexer": "ipython3",
   "version": "3.8.5"
  }
 },
 "nbformat": 4,
 "nbformat_minor": 1
}
